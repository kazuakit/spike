{
 "cells": [
  {
   "cell_type": "code",
   "execution_count": 4,
   "metadata": {},
   "outputs": [],
   "source": [
    "# Import libraries\n",
    "\n",
    "import datrie\n",
    "import string"
   ]
  },
  {
   "cell_type": "code",
   "execution_count": 7,
   "metadata": {},
   "outputs": [],
   "source": [
    "# Target string\n",
    "\n",
    "s = \"かれのくるまでまつ\"\n",
    "\n",
    "# Character set\n",
    "char_all = \"\".join(sorted(list(set(s))))"
   ]
  },
  {
   "cell_type": "code",
   "execution_count": 11,
   "metadata": {},
   "outputs": [
    {
     "data": {
      "text/plain": [
       "7"
      ]
     },
     "execution_count": 11,
     "metadata": {},
     "output_type": "execute_result"
    }
   ],
   "source": [
    "# Create Trie\n",
    "\n",
    "trie = datrie.Trie(char_all)\n",
    "\n",
    "trie[u'かれ'] = len(trie)\n",
    "trie[u'の'] = len(trie)\n",
    "trie[u'くる'] = len(trie)\n",
    "trie[u'くるま'] = len(trie)\n",
    "trie[u'まで'] = len(trie)\n",
    "trie[u'で'] = len(trie)\n",
    "trie[u'まつ'] = len(trie)\n",
    "\n",
    "len(trie)"
   ]
  },
  {
   "cell_type": "code",
   "execution_count": 13,
   "metadata": {},
   "outputs": [
    {
     "data": {
      "text/plain": [
       "['くる', 'くるま']"
      ]
     },
     "execution_count": 13,
     "metadata": {},
     "output_type": "execute_result"
    }
   ],
   "source": [
    "# Common prefix search\n",
    "\n",
    "\n",
    "trie.prefixes('くるまでまつ')"
   ]
  }
 ],
 "metadata": {
  "kernelspec": {
   "display_name": "Python 3",
   "language": "python",
   "name": "python3"
  },
  "language_info": {
   "codemirror_mode": {
    "name": "ipython",
    "version": 3
   },
   "file_extension": ".py",
   "mimetype": "text/x-python",
   "name": "python",
   "nbconvert_exporter": "python",
   "pygments_lexer": "ipython3",
   "version": "3.6.5"
  }
 },
 "nbformat": 4,
 "nbformat_minor": 2
}
