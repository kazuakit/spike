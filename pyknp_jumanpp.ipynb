{
 "cells": [
  {
   "cell_type": "markdown",
   "metadata": {},
   "source": [
    "## Jumanpp in Python\n",
    "\n",
    "Link: https://pyknp.readthedocs.io/en/latest/\n",
    "\n",
    "Before execute follow\n",
    "```\n",
    "brew install jumanpp\n",
    "pipenv install pyknp\n",
    "```"
   ]
  },
  {
   "cell_type": "code",
   "execution_count": 67,
   "metadata": {},
   "outputs": [],
   "source": [
    "# Import modules\n",
    "\n",
    "from pyknp import Juman"
   ]
  },
  {
   "cell_type": "code",
   "execution_count": 68,
   "metadata": {},
   "outputs": [],
   "source": [
    "# Define variables\n",
    "\n",
    "s = \"日本語の形態素解析をします。\""
   ]
  },
  {
   "cell_type": "code",
   "execution_count": 69,
   "metadata": {},
   "outputs": [],
   "source": [
    "# Make jumanpp parser\n",
    "\n",
    "jumanpp = Juman()"
   ]
  },
  {
   "cell_type": "code",
   "execution_count": 70,
   "metadata": {},
   "outputs": [
    {
     "name": "stdout",
     "output_type": "stream",
     "text": [
      "見出し:日本, 読み:にっぽん, 原形:日本, 品詞:名詞, 品詞細分類:地名, 活用型:*, 活用形:*, 意味情報:代表表記:日本/にほん 地名:国, 代表表記:日本/にほん\n",
      "見出し:語, 読み:ご, 原形:語, 品詞:名詞, 品詞細分類:普通名詞, 活用型:*, 活用形:*, 意味情報:代表表記:語/ご 漢字読み:音 カテゴリ:抽象物, 代表表記:語/ご\n",
      "見出し:の, 読み:の, 原形:の, 品詞:助詞, 品詞細分類:接続助詞, 活用型:*, 活用形:*, 意味情報:NIL, 代表表記:\n",
      "見出し:形態, 読み:けいたい, 原形:形態, 品詞:名詞, 品詞細分類:普通名詞, 活用型:*, 活用形:*, 意味情報:代表表記:形態/けいたい カテゴリ:形・模様, 代表表記:形態/けいたい\n",
      "見出し:素, 読み:そ, 原形:素, 品詞:名詞, 品詞細分類:普通名詞, 活用型:*, 活用形:*, 意味情報:代表表記:素/そ 漢字読み:音 カテゴリ:抽象物, 代表表記:素/そ\n",
      "見出し:解析, 読み:かいせき, 原形:解析, 品詞:名詞, 品詞細分類:サ変名詞, 活用型:*, 活用形:*, 意味情報:代表表記:解析/かいせき カテゴリ:抽象物 ドメイン:教育・学習;科学・技術, 代表表記:解析/かいせき\n",
      "見出し:を, 読み:を, 原形:を, 品詞:助詞, 品詞細分類:格助詞, 活用型:*, 活用形:*, 意味情報:NIL, 代表表記:\n",
      "見出し:し, 読み:し, 原形:する, 品詞:動詞, 品詞細分類:*, 活用型:サ変動詞, 活用形:基本連用形, 意味情報:代表表記:する/する 付属動詞候補（基本） 自他動詞:自:成る/なる, 代表表記:する/する\n",
      "見出し:ます, 読み:ます, 原形:ます, 品詞:接尾辞, 品詞細分類:動詞性接尾辞, 活用型:動詞性接尾辞ます型, 活用形:基本形, 意味情報:代表表記:ます/ます, 代表表記:ます/ます\n",
      "見出し:。, 読み:。, 原形:。, 品詞:特殊, 品詞細分類:句点, 活用型:*, 活用形:*, 意味情報:NIL, 代表表記:\n"
     ]
    }
   ],
   "source": [
    "# Print the analysis result\n",
    "\n",
    "r = jumanpp.analysis(s)\n",
    "\n",
    "for m in r.mrph_list(): # 各形態素にアクセス\n",
    "    print(\"見出し:%s, 読み:%s, 原形:%s, 品詞:%s, 品詞細分類:%s, 活用型:%s, 活用形:%s, 意味情報:%s, 代表表記:%s\" \\\n",
    "            % (m.midasi, m.yomi, m.genkei, m.hinsi, m.bunrui, m.katuyou1, m.katuyou2, m.imis, m.repname))"
   ]
  },
  {
   "cell_type": "code",
   "execution_count": null,
   "metadata": {},
   "outputs": [],
   "source": []
  }
 ],
 "metadata": {
  "kernelspec": {
   "display_name": "Python 3",
   "language": "python",
   "name": "python3"
  },
  "language_info": {
   "codemirror_mode": {
    "name": "ipython",
    "version": 3
   },
   "file_extension": ".py",
   "mimetype": "text/x-python",
   "name": "python",
   "nbconvert_exporter": "python",
   "pygments_lexer": "ipython3",
   "version": "3.7.3"
  }
 },
 "nbformat": 4,
 "nbformat_minor": 4
}
