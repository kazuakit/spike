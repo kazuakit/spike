{
 "cells": [
  {
   "cell_type": "code",
   "execution_count": 10,
   "metadata": {},
   "outputs": [],
   "source": [
    "# Import gensim (and related modules for word2vec)\n",
    "\n",
    "from gensim.test.utils import common_texts, get_tmpfile\n",
    "from gensim.models import Word2Vec"
   ]
  },
  {
   "cell_type": "code",
   "execution_count": 12,
   "metadata": {},
   "outputs": [
    {
     "data": {
      "text/plain": [
       "[['human', 'interface', 'computer'],\n",
       " ['survey', 'user', 'computer', 'system', 'response', 'time'],\n",
       " ['eps', 'user', 'interface', 'system'],\n",
       " ['system', 'human', 'system', 'eps'],\n",
       " ['user', 'response', 'time'],\n",
       " ['trees'],\n",
       " ['graph', 'trees'],\n",
       " ['graph', 'minors', 'trees'],\n",
       " ['graph', 'minors', 'survey']]"
      ]
     },
     "execution_count": 12,
     "metadata": {},
     "output_type": "execute_result"
    }
   ],
   "source": [
    "# Show input text\n",
    "common_texts"
   ]
  },
  {
   "cell_type": "code",
   "execution_count": 11,
   "metadata": {},
   "outputs": [],
   "source": [
    "# Model training\n",
    "\n",
    "model = Word2Vec(common_texts, size=100, window=5, min_count=1, workers=4)"
   ]
  },
  {
   "cell_type": "code",
   "execution_count": 7,
   "metadata": {},
   "outputs": [
    {
     "name": "stderr",
     "output_type": "stream",
     "text": [
      "/Users/01013542/.pyenv/versions/anaconda3-5.2.0/lib/python3.6/site-packages/ipykernel_launcher.py:1: DeprecationWarning: Call to deprecated `most_similar` (Method will be removed in 4.0.0, use self.wv.most_similar() instead).\n",
      "  \"\"\"Entry point for launching an IPython kernel.\n"
     ]
    },
    {
     "data": {
      "text/plain": [
       "[('graph', 0.19320976734161377),\n",
       " ('user', 0.15357638895511627),\n",
       " ('interface', 0.12993067502975464),\n",
       " ('time', 0.11440575122833252),\n",
       " ('computer', 0.10677403956651688),\n",
       " ('survey', 0.07439855486154556),\n",
       " ('system', 0.04097568988800049),\n",
       " ('trees', 0.023618333041667938),\n",
       " ('minors', -0.027062004432082176),\n",
       " ('response', -0.031398557126522064)]"
      ]
     },
     "execution_count": 7,
     "metadata": {},
     "output_type": "execute_result"
    }
   ],
   "source": [
    "# Show vector\n",
    "\n",
    "model.most_similar('human')"
   ]
  },
  {
   "cell_type": "code",
   "execution_count": 8,
   "metadata": {},
   "outputs": [
    {
     "name": "stderr",
     "output_type": "stream",
     "text": [
      "/Users/01013542/.pyenv/versions/anaconda3-5.2.0/lib/python3.6/site-packages/ipykernel_launcher.py:1: DeprecationWarning: Call to deprecated `__getitem__` (Method will be removed in 4.0.0, use self.wv.__getitem__() instead).\n",
      "  \"\"\"Entry point for launching an IPython kernel.\n"
     ]
    },
    {
     "data": {
      "text/plain": [
       "array([-3.0511790e-03, -3.0426560e-03,  1.8296486e-03,  1.0450159e-03,\n",
       "       -2.6739505e-03, -2.5503426e-03, -7.5465313e-04,  1.9581057e-03,\n",
       "        4.8915450e-03, -2.7400942e-03,  1.9951740e-03,  9.6095935e-04,\n",
       "       -3.1825923e-03,  1.7985095e-03,  3.2116130e-03,  4.3389341e-03,\n",
       "       -4.6024835e-03, -3.6315490e-03,  4.4479873e-03,  4.0418836e-03,\n",
       "       -4.2089703e-03, -3.9507798e-03, -1.1832151e-03,  3.1648898e-03,\n",
       "        4.5750663e-03,  3.7545885e-04,  2.0251465e-03,  3.8866911e-03,\n",
       "        4.8491568e-03,  1.7377816e-03, -4.7264341e-03,  2.4072698e-03,\n",
       "       -2.6797033e-03, -1.1716423e-03, -4.0934104e-03,  2.3183017e-03,\n",
       "        2.8704149e-03, -2.6789892e-03, -3.3767021e-03,  3.4190225e-03,\n",
       "       -3.8214787e-03,  1.4584931e-03,  1.4689182e-03, -2.6171990e-03,\n",
       "       -1.9223508e-03,  1.0785600e-03, -4.1852905e-03, -5.4760725e-04,\n",
       "        2.1086524e-03, -1.3745758e-03,  1.7314671e-03, -2.2610887e-03,\n",
       "        3.5029848e-03, -4.0949658e-03, -4.8088920e-03, -4.8361947e-03,\n",
       "        3.6887724e-03,  9.5608836e-04,  5.3830608e-04, -2.3075861e-03,\n",
       "        2.7047985e-03, -2.8189982e-03,  4.9595226e-04,  2.4175337e-03,\n",
       "       -1.9552535e-03,  8.5212564e-04,  4.0974766e-03, -3.9919363e-03,\n",
       "       -2.0903586e-04, -2.4741254e-04, -3.8325781e-04, -1.6476430e-03,\n",
       "        4.7405749e-03,  2.3916876e-03,  2.5465584e-03, -4.0948815e-03,\n",
       "        2.2830800e-03, -4.1686484e-04, -1.4917316e-03,  1.3634091e-03,\n",
       "       -8.2960374e-05, -2.4835393e-03, -4.1664960e-03,  2.4798380e-03,\n",
       "       -1.3382891e-03, -1.9550461e-03,  1.0714250e-03,  1.4351724e-03,\n",
       "        4.8745335e-03, -2.6766288e-03, -1.4184737e-03, -2.9166052e-03,\n",
       "        3.5805667e-03, -3.8287130e-03,  2.4168857e-03,  1.0113535e-03,\n",
       "       -3.5485339e-03,  4.8438958e-03,  2.3706474e-03,  1.4270534e-03],\n",
       "      dtype=float32)"
      ]
     },
     "execution_count": 8,
     "metadata": {},
     "output_type": "execute_result"
    }
   ],
   "source": [
    "# \n",
    "model['human']"
   ]
  },
  {
   "cell_type": "code",
   "execution_count": 9,
   "metadata": {},
   "outputs": [
    {
     "name": "stderr",
     "output_type": "stream",
     "text": [
      "/Users/01013542/.pyenv/versions/anaconda3-5.2.0/lib/python3.6/site-packages/ipykernel_launcher.py:1: DeprecationWarning: Call to deprecated `__getitem__` (Method will be removed in 4.0.0, use self.wv.__getitem__() instead).\n",
      "  \"\"\"Entry point for launching an IPython kernel.\n"
     ]
    },
    {
     "data": {
      "text/plain": [
       "array([-2.8907482e-03,  4.1394358e-04, -3.5560915e-05,  1.1974762e-04,\n",
       "        3.5436726e-03,  4.8333425e-03,  8.4493024e-04,  2.1780168e-03,\n",
       "        3.5701660e-03, -3.1292723e-03, -1.5921553e-03,  4.5602047e-03,\n",
       "        4.0855450e-03,  1.8197632e-03,  2.0096807e-03,  3.4243895e-03,\n",
       "        2.5702373e-03, -7.2460604e-04,  1.5357079e-03, -3.1240254e-03,\n",
       "        4.5795804e-03, -7.2835817e-04,  2.0417378e-03,  4.7278129e-03,\n",
       "        2.2788628e-03,  4.4419547e-03,  2.5334762e-04,  3.4734595e-03,\n",
       "        2.0812482e-03,  1.4528867e-03, -3.0915129e-03,  1.9422903e-03,\n",
       "       -2.0039473e-03,  3.3700822e-03, -2.1746471e-03,  4.8648589e-03,\n",
       "       -2.4282340e-04, -3.6269841e-03,  3.2092864e-03,  5.6790363e-04,\n",
       "       -2.2356231e-03,  2.0848045e-03,  7.2633376e-04, -2.6777005e-03,\n",
       "       -3.0401316e-03,  4.0484061e-03,  9.7480568e-04, -4.8418283e-03,\n",
       "        8.0450386e-04,  2.0195688e-03, -3.3490506e-03,  1.2732690e-03,\n",
       "       -2.5981932e-03,  5.2237808e-04, -1.3951246e-03, -1.5157873e-03,\n",
       "       -1.4081770e-03, -2.2312026e-03,  3.8163420e-03,  1.4070597e-03,\n",
       "        2.0451148e-04,  7.0882164e-04, -2.3457529e-03,  3.8692199e-03,\n",
       "       -2.2490125e-03,  2.7836356e-03,  5.8352924e-04,  8.6341816e-04,\n",
       "        3.5024772e-03,  4.9922089e-03,  1.6835671e-03, -4.2704204e-03,\n",
       "       -2.2202819e-03,  4.4378935e-04,  1.7743285e-03,  2.3046678e-03,\n",
       "        3.1638504e-03,  2.8652837e-03,  4.1797818e-03,  1.6069218e-03,\n",
       "        6.2587314e-05, -1.8027730e-03, -1.3831509e-03,  3.3555238e-03,\n",
       "        1.3421921e-03, -2.4256986e-03, -2.3986280e-03, -1.2001817e-03,\n",
       "       -3.1601551e-03,  3.8767133e-03, -1.6540926e-03,  3.5667485e-03,\n",
       "        2.1345927e-03,  1.6799209e-03,  2.9001252e-03,  2.1103192e-03,\n",
       "       -4.6477237e-04,  2.0097606e-03,  4.1043307e-03, -2.3061584e-03],\n",
       "      dtype=float32)"
      ]
     },
     "execution_count": 9,
     "metadata": {},
     "output_type": "execute_result"
    }
   ],
   "source": [
    "model['user']"
   ]
  },
  {
   "cell_type": "code",
   "execution_count": null,
   "metadata": {},
   "outputs": [],
   "source": []
  }
 ],
 "metadata": {
  "kernelspec": {
   "display_name": "Python 3",
   "language": "python",
   "name": "python3"
  },
  "language_info": {
   "codemirror_mode": {
    "name": "ipython",
    "version": 3
   },
   "file_extension": ".py",
   "mimetype": "text/x-python",
   "name": "python",
   "nbconvert_exporter": "python",
   "pygments_lexer": "ipython3",
   "version": "3.6.5"
  }
 },
 "nbformat": 4,
 "nbformat_minor": 2
}
