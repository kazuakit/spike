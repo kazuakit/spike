{
 "cells": [
  {
   "cell_type": "code",
   "execution_count": 1,
   "metadata": {},
   "outputs": [],
   "source": [
    "import nltk"
   ]
  },
  {
   "cell_type": "code",
   "execution_count": 2,
   "metadata": {},
   "outputs": [
    {
     "data": {
      "text/plain": [
       "[['I', 'have', 'a', 'pen', '.'],\n",
       " ['I', 'have', 'an', 'apple', '.'],\n",
       " ['I', 'eat', 'an', 'apple', '.']]"
      ]
     },
     "execution_count": 2,
     "metadata": {},
     "output_type": "execute_result"
    }
   ],
   "source": [
    "# Create text data\n",
    "\n",
    "docs = [\n",
    "    'I have a pen .'.split(),\n",
    "    'I have an apple .'.split(),\n",
    "    'I eat an apple .'.split()\n",
    "]\n",
    "\n",
    "docs"
   ]
  },
  {
   "cell_type": "code",
   "execution_count": 3,
   "metadata": {},
   "outputs": [
    {
     "name": "stdout",
     "output_type": "stream",
     "text": [
      "I : 0.000000\n",
      "have : 0.081093\n",
      "a : 0.219722\n",
      "pen : 0.219722\n",
      ". : 0.000000\n",
      "----\n",
      "I : 0.000000\n",
      "have : 0.081093\n",
      "an : 0.081093\n",
      "apple : 0.081093\n",
      ". : 0.000000\n",
      "----\n",
      "I : 0.000000\n",
      "eat : 0.219722\n",
      "an : 0.081093\n",
      "apple : 0.081093\n",
      ". : 0.000000\n",
      "----\n"
     ]
    }
   ],
   "source": [
    "# Create TextCollection\n",
    "\n",
    "text_collection = nltk.TextCollection(docs)\n",
    "\n",
    "for doc in docs:\n",
    "    for word in doc:\n",
    "        print(\"%s : %f\" % (word, text_collection.tf_idf(word, doc)))\n",
    "    print('----')"
   ]
  },
  {
   "cell_type": "code",
   "execution_count": 4,
   "metadata": {},
   "outputs": [],
   "source": [
    "# Frequency count\n",
    "\n",
    "freq_dist = nltk.FreqDist(text_collection)"
   ]
  },
  {
   "cell_type": "code",
   "execution_count": 5,
   "metadata": {},
   "outputs": [
    {
     "data": {
      "text/plain": [
       "[('I', 3), ('.', 3), ('have', 2)]"
      ]
     },
     "execution_count": 5,
     "metadata": {},
     "output_type": "execute_result"
    }
   ],
   "source": [
    "# Most common words\n",
    "\n",
    "freq_dist.most_common(n=3)"
   ]
  },
  {
   "cell_type": "code",
   "execution_count": null,
   "metadata": {},
   "outputs": [],
   "source": []
  }
 ],
 "metadata": {
  "kernelspec": {
   "display_name": "Python 3",
   "language": "python",
   "name": "python3"
  },
  "language_info": {
   "codemirror_mode": {
    "name": "ipython",
    "version": 3
   },
   "file_extension": ".py",
   "mimetype": "text/x-python",
   "name": "python",
   "nbconvert_exporter": "python",
   "pygments_lexer": "ipython3",
   "version": "3.7.0"
  }
 },
 "nbformat": 4,
 "nbformat_minor": 2
}
