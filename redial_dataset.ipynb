{
 "cells": [
  {
   "cell_type": "markdown",
   "metadata": {
    "toc-hr-collapsed": false
   },
   "source": [
    "# ReDial dataset investigation\n",
    "\n",
    "Link: https://redialdata.github.io/website/datasheet"
   ]
  },
  {
   "cell_type": "code",
   "execution_count": 1,
   "metadata": {},
   "outputs": [],
   "source": [
    "# Load modules\n",
    "\n",
    "import numpy as np\n",
    "import pandas as pd\n",
    "\n",
    "import matplotlib\n",
    "import matplotlib.pyplot as plt\n",
    "\n",
    "%matplotlib inline"
   ]
  },
  {
   "cell_type": "markdown",
   "metadata": {},
   "source": [
    "### Download redial dataset"
   ]
  },
  {
   "cell_type": "code",
   "execution_count": 2,
   "metadata": {},
   "outputs": [],
   "source": [
    "# Make data directory\n",
    "\n",
    "import pathlib\n",
    "\n",
    "dir_data = './data'\n",
    "p = pathlib.Path(dir_data)\n",
    "if not p.exists():\n",
    "    p.mkdir()"
   ]
  },
  {
   "cell_type": "code",
   "execution_count": 3,
   "metadata": {},
   "outputs": [
    {
     "data": {
      "text/plain": [
       "('./data/redial_dataset.zip', <http.client.HTTPMessage at 0x119de5d68>)"
      ]
     },
     "execution_count": 3,
     "metadata": {},
     "output_type": "execute_result"
    }
   ],
   "source": [
    "# Download ReDial dataset\n",
    "\n",
    "import urllib\n",
    "import os\n",
    "\n",
    "url = 'https://github.com/ReDialData/website/raw/data/redial_dataset.zip'\n",
    "\n",
    "file_path = os.path.join(dir_data, 'redial_dataset.zip')\n",
    "urllib.request.urlretrieve(url, file_path)"
   ]
  },
  {
   "cell_type": "code",
   "execution_count": 4,
   "metadata": {},
   "outputs": [
    {
     "data": {
      "text/plain": [
       "['train_data.jsonl', 'test_data.jsonl', 'movies_with_mentions.csv']"
      ]
     },
     "execution_count": 4,
     "metadata": {},
     "output_type": "execute_result"
    }
   ],
   "source": [
    "# Unzip ReDial dataset\n",
    "\n",
    "import zipfile\n",
    "\n",
    "with zipfile.ZipFile(file_path) as f:\n",
    "    f.extractall(dir_data)\n",
    "\n",
    "dir_redial = os.path.join(dir_data, 'redial_dataset')\n",
    "os.listdir(dir_redial)"
   ]
  },
  {
   "cell_type": "markdown",
   "metadata": {},
   "source": [
    "- There are 3 files in redial_dataset. train_data.jsonl and test_data.jsonl have same format.\n",
    "- So I'll investigate 1) train_data.jsonl and 2) movies_with_mentions.csv below."
   ]
  },
  {
   "cell_type": "markdown",
   "metadata": {},
   "source": [
    "## 1) train_data.jsonl"
   ]
  },
  {
   "cell_type": "code",
   "execution_count": 5,
   "metadata": {},
   "outputs": [
    {
     "data": {
      "text/html": [
       "<div>\n",
       "<style scoped>\n",
       "    .dataframe tbody tr th:only-of-type {\n",
       "        vertical-align: middle;\n",
       "    }\n",
       "\n",
       "    .dataframe tbody tr th {\n",
       "        vertical-align: top;\n",
       "    }\n",
       "\n",
       "    .dataframe thead th {\n",
       "        text-align: right;\n",
       "    }\n",
       "</style>\n",
       "<table border=\"1\" class=\"dataframe\">\n",
       "  <thead>\n",
       "    <tr style=\"text-align: right;\">\n",
       "      <th></th>\n",
       "      <th>movieMentions</th>\n",
       "      <th>respondentQuestions</th>\n",
       "      <th>messages</th>\n",
       "      <th>conversationId</th>\n",
       "      <th>respondentWorkerId</th>\n",
       "      <th>initiatorWorkerId</th>\n",
       "      <th>initiatorQuestions</th>\n",
       "    </tr>\n",
       "  </thead>\n",
       "  <tbody>\n",
       "    <tr>\n",
       "      <td>0</td>\n",
       "      <td>{'203371': 'Final Fantasy: The Spirits Within ...</td>\n",
       "      <td>{'203371': {'suggested': 1, 'seen': 0, 'liked'...</td>\n",
       "      <td>[{'timeOffset': 0, 'text': 'Hi there, how are ...</td>\n",
       "      <td>391</td>\n",
       "      <td>1</td>\n",
       "      <td>0</td>\n",
       "      <td>{'203371': {'suggested': 1, 'seen': 0, 'liked'...</td>\n",
       "    </tr>\n",
       "    <tr>\n",
       "      <td>1</td>\n",
       "      <td>{'196336': 'Scarface  (1983)', '204322': 'Sout...</td>\n",
       "      <td>{'196336': {'suggested': 0, 'seen': 1, 'liked'...</td>\n",
       "      <td>[{'timeOffset': 0, 'text': 'Hi, did you see @1...</td>\n",
       "      <td>395</td>\n",
       "      <td>1</td>\n",
       "      <td>2</td>\n",
       "      <td>[]</td>\n",
       "    </tr>\n",
       "    <tr>\n",
       "      <td>2</td>\n",
       "      <td>{'79320': 'Contact  (2009)', '84001': 'Donnie ...</td>\n",
       "      <td>{'79320': {'suggested': 0, 'seen': 1, 'liked':...</td>\n",
       "      <td>[{'timeOffset': 0, 'text': '@163606 It is a ni...</td>\n",
       "      <td>397</td>\n",
       "      <td>1</td>\n",
       "      <td>3</td>\n",
       "      <td>{'79320': {'suggested': 0, 'seen': 0, 'liked':...</td>\n",
       "    </tr>\n",
       "  </tbody>\n",
       "</table>\n",
       "</div>"
      ],
      "text/plain": [
       "                                       movieMentions  \\\n",
       "0  {'203371': 'Final Fantasy: The Spirits Within ...   \n",
       "1  {'196336': 'Scarface  (1983)', '204322': 'Sout...   \n",
       "2  {'79320': 'Contact  (2009)', '84001': 'Donnie ...   \n",
       "\n",
       "                                 respondentQuestions  \\\n",
       "0  {'203371': {'suggested': 1, 'seen': 0, 'liked'...   \n",
       "1  {'196336': {'suggested': 0, 'seen': 1, 'liked'...   \n",
       "2  {'79320': {'suggested': 0, 'seen': 1, 'liked':...   \n",
       "\n",
       "                                            messages  conversationId  \\\n",
       "0  [{'timeOffset': 0, 'text': 'Hi there, how are ...             391   \n",
       "1  [{'timeOffset': 0, 'text': 'Hi, did you see @1...             395   \n",
       "2  [{'timeOffset': 0, 'text': '@163606 It is a ni...             397   \n",
       "\n",
       "   respondentWorkerId  initiatorWorkerId  \\\n",
       "0                   1                  0   \n",
       "1                   1                  2   \n",
       "2                   1                  3   \n",
       "\n",
       "                                  initiatorQuestions  \n",
       "0  {'203371': {'suggested': 1, 'seen': 0, 'liked'...  \n",
       "1                                                 []  \n",
       "2  {'79320': {'suggested': 0, 'seen': 0, 'liked':...  "
      ]
     },
     "execution_count": 5,
     "metadata": {},
     "output_type": "execute_result"
    }
   ],
   "source": [
    "# Data loading\n",
    "\n",
    "tr_json = os.path.join(dir_redial, 'train_data.jsonl')\n",
    "\n",
    "df_tr = pd.read_json(tr_json, orient='records', lines=True)\n",
    "df_tr.head(3)"
   ]
  },
  {
   "cell_type": "code",
   "execution_count": 6,
   "metadata": {},
   "outputs": [
    {
     "name": "stdout",
     "output_type": "stream",
     "text": [
      "<class 'pandas.core.frame.DataFrame'>\n",
      "RangeIndex: 10006 entries, 0 to 10005\n",
      "Data columns (total 7 columns):\n",
      "movieMentions          10006 non-null object\n",
      "respondentQuestions    10006 non-null object\n",
      "messages               10006 non-null object\n",
      "conversationId         10006 non-null int64\n",
      "respondentWorkerId     10006 non-null int64\n",
      "initiatorWorkerId      10006 non-null int64\n",
      "initiatorQuestions     10006 non-null object\n",
      "dtypes: int64(3), object(4)\n",
      "memory usage: 547.3+ KB\n"
     ]
    }
   ],
   "source": [
    "# Show information of train_data.jsonl\n",
    "\n",
    "df_tr.info()"
   ]
  },
  {
   "cell_type": "code",
   "execution_count": 7,
   "metadata": {},
   "outputs": [
    {
     "name": "stdout",
     "output_type": "stream",
     "text": [
      "initiatorWorkerId:  0 , respondentQuestions:  1\n",
      "movieMentions: \n",
      "{'122159': 'Mary and Max (2009)',\n",
      " '151313': 'A Scanner Darkly  (2006)',\n",
      " '165710': 'The Boss Baby (2017)',\n",
      " '191602': 'Waking Life (2001)',\n",
      " '203371': 'Final Fantasy: The Spirits Within (2001)',\n",
      " '84779': 'The Triplets of Belleville (2003)'}\n",
      "initiatorQuestions: \n",
      "{'122159': {'liked': 1, 'seen': 1, 'suggested': 0},\n",
      " '151313': {'liked': 1, 'seen': 1, 'suggested': 0},\n",
      " '165710': {'liked': 1, 'seen': 0, 'suggested': 1},\n",
      " '191602': {'liked': 1, 'seen': 1, 'suggested': 0},\n",
      " '203371': {'liked': 1, 'seen': 0, 'suggested': 1},\n",
      " '84779': {'liked': 1, 'seen': 1, 'suggested': 0}}\n",
      "respondentQuestions: \n",
      "{'122159': {'liked': 1, 'seen': 1, 'suggested': 0},\n",
      " '151313': {'liked': 1, 'seen': 1, 'suggested': 0},\n",
      " '165710': {'liked': 1, 'seen': 0, 'suggested': 1},\n",
      " '191602': {'liked': 1, 'seen': 1, 'suggested': 0},\n",
      " '203371': {'liked': 1, 'seen': 0, 'suggested': 1},\n",
      " '84779': {'liked': 1, 'seen': 1, 'suggested': 0}}\n"
     ]
    }
   ],
   "source": [
    "# Show a row of train_data.jsonl\n",
    "\n",
    "import pprint\n",
    "pp = pprint.pprint\n",
    "\n",
    "## i: row number\n",
    "i = 0\n",
    "\n",
    "print('initiatorWorkerId: ', df_tr.initiatorWorkerId[i],\n",
    "      ', respondentQuestions: ', df_tr.respondentWorkerId[i])\n",
    "\n",
    "print('movieMentions: ')\n",
    "pp(df_tr.movieMentions[i])\n",
    "\n",
    "print('initiatorQuestions: ')\n",
    "pp(df_tr.initiatorQuestions[i])\n",
    "\n",
    "print('respondentQuestions: ')\n",
    "pp(df_tr.respondentQuestions[i])"
   ]
  },
  {
   "cell_type": "code",
   "execution_count": 8,
   "metadata": {},
   "outputs": [
    {
     "name": "stdout",
     "output_type": "stream",
     "text": [
      "1021, 0, 0: Hi there, how are you? I'm looking for movie recommendations\n",
      "1022, 15, 1: I am doing okay. What kind of movies do you like?\n",
      "1023, 66, 0: I like animations like @84779 and @191602\n",
      "1024, 86, 0: I also enjoy @122159\n",
      "1025, 95, 0: Anything artistic\n",
      "1026, 135, 1: You might like @165710 that was a good movie.\n",
      "1027, 151, 0: What's it about?\n",
      "1028, 207, 1: It has Alec Baldwin it is about a baby that works for a company and gets adopted it is very funny\n",
      "1029, 238, 0: That seems like a nice comedy\n",
      "1030, 272, 0: Do you have any animated recommendations that are a bit more dramatic? Like @151313 for example\n",
      "1031, 327, 0: I like comedies but I prefer films with a little more depth\n",
      "1032, 467, 1: That is a tough one but I will remember something\n",
      "1033, 509, 1: @203371 was a good one\n",
      "1034, 564, 0: Ooh that seems cool! Thanks for the input. I'm ready to submit if you are.\n",
      "1035, 571, 1: It is animated, sci fi, and has action\n",
      "1036, 579, 1: Glad I could help\n",
      "1037, 581, 0: Nice\n",
      "1038, 591, 0: Take care, cheers!\n",
      "1039, 608, 1: bye\n"
     ]
    }
   ],
   "source": [
    "# Print messages\n",
    "\n",
    "def pp_msg(messages):\n",
    "    for m in messages:\n",
    "        print(f\"{m['messageId']}, {m['timeOffset']}, {m['senderWorkerId']}: {m['text']}\")\n",
    "\n",
    "pp_msg(df_tr.messages[i])"
   ]
  },
  {
   "cell_type": "code",
   "execution_count": 9,
   "metadata": {},
   "outputs": [
    {
     "name": "stdout",
     "output_type": "stream",
     "text": [
      "Num of conversations: 10,006\n",
      "Num of utterances: 182,150\n"
     ]
    }
   ],
   "source": [
    "# Basic stats\n",
    "\n",
    "print('Num of conversations: {:,}'.format(len(df_tr.conversationId.unique())))\n",
    "print('Num of utterances: {:,}'.format(sum([len(ms) for ms in df_tr.messages])))"
   ]
  },
  {
   "cell_type": "code",
   "execution_count": 10,
   "metadata": {},
   "outputs": [],
   "source": [
    "# Gathering words in messages column.\n",
    "\n",
    "import re\n",
    "re_split = re.compile(r'(?:@\\d+)|[ ,.\\?!]+')\n",
    "\n",
    "words = []\n",
    "for messages in df_tr.messages:\n",
    "    for m in messages:\n",
    "        words += re_split.split(m['text'].lower())"
   ]
  },
  {
   "cell_type": "code",
   "execution_count": 11,
   "metadata": {},
   "outputs": [
    {
     "data": {
      "text/plain": [
       "FreqDist({'i': 65382, 'you': 43558, 'a': 33399, 'it': 27967, 'have': 25765, 'that': 24707, 'good': 24541, 'like': 22117, 'the': 22074, 'is': 21027, ...})"
      ]
     },
     "execution_count": 11,
     "metadata": {},
     "output_type": "execute_result"
    }
   ],
   "source": [
    "# Create word frequency\n",
    "\n",
    "import nltk\n",
    "\n",
    "word_freq = nltk.FreqDist(words)\n",
    "word_freq.pop('')\n",
    "word_freq"
   ]
  },
  {
   "cell_type": "code",
   "execution_count": 12,
   "metadata": {},
   "outputs": [
    {
     "name": "stdout",
     "output_type": "stream",
     "text": [
      "Num of words: 1,159,619\n",
      "Num of vocabs: 17,256\n"
     ]
    }
   ],
   "source": [
    "# Stats of words\n",
    "\n",
    "print(f'Num of words: {word_freq.N():,}')\n",
    "print(f'Num of vocabs: {word_freq.B():,}')"
   ]
  },
  {
   "cell_type": "code",
   "execution_count": 13,
   "metadata": {},
   "outputs": [
    {
     "data": {
      "image/png": "[encoded data removed]",
      "text/plain": [
       "<Figure size 1152x288 with 1 Axes>"
      ]
     },
     "metadata": {
      "needs_background": "light"
     },
     "output_type": "display_data"
    },
    {
     "data": {
      "text/plain": [
       "<matplotlib.axes._subplots.AxesSubplot at 0x1325f4400>"
      ]
     },
     "execution_count": 13,
     "metadata": {},
     "output_type": "execute_result"
    }
   ],
   "source": [
    "plt.figure(figsize=(16, 4))\n",
    "word_freq.plot(100, cumulative=False)"
   ]
  },
  {
   "cell_type": "markdown",
   "metadata": {},
   "source": [
    "## 2) movies_with_mentions.csv"
   ]
  },
  {
   "cell_type": "code",
   "execution_count": 14,
   "metadata": {},
   "outputs": [],
   "source": [
    "# Data loading\n",
    "\n",
    "df_mv = pd.read_csv('./data/redial_dataset/movies_with_mentions.csv')"
   ]
  },
  {
   "cell_type": "code",
   "execution_count": 15,
   "metadata": {},
   "outputs": [
    {
     "name": "stdout",
     "output_type": "stream",
     "text": [
      "Num of movies: 20,772\n",
      "Num of mentioned: 80,109\n"
     ]
    }
   ],
   "source": [
    "# Basic stats\n",
    "\n",
    "print('Num of movies: {:,}'.format(df_mv.size))\n",
    "print('Num of mentioned: {:,}'.format(df_mv.nbMentions.sum()))"
   ]
  },
  {
   "cell_type": "code",
   "execution_count": 16,
   "metadata": {},
   "outputs": [
    {
     "data": {
      "text/html": [
       "<div>\n",
       "<style scoped>\n",
       "    .dataframe tbody tr th:only-of-type {\n",
       "        vertical-align: middle;\n",
       "    }\n",
       "\n",
       "    .dataframe tbody tr th {\n",
       "        vertical-align: top;\n",
       "    }\n",
       "\n",
       "    .dataframe thead th {\n",
       "        text-align: right;\n",
       "    }\n",
       "</style>\n",
       "<table border=\"1\" class=\"dataframe\">\n",
       "  <thead>\n",
       "    <tr style=\"text-align: right;\">\n",
       "      <th></th>\n",
       "      <th>movieId</th>\n",
       "      <th>movieName</th>\n",
       "      <th>nbMentions</th>\n",
       "    </tr>\n",
       "  </thead>\n",
       "  <tbody>\n",
       "    <tr>\n",
       "      <td>6778</td>\n",
       "      <td>204974</td>\n",
       "      <td>Black Panther (2018)</td>\n",
       "      <td>1024</td>\n",
       "    </tr>\n",
       "    <tr>\n",
       "      <td>5828</td>\n",
       "      <td>187028</td>\n",
       "      <td>It  (2017)</td>\n",
       "      <td>896</td>\n",
       "    </tr>\n",
       "    <tr>\n",
       "      <td>445</td>\n",
       "      <td>83552</td>\n",
       "      <td>Jumanji  (2017)</td>\n",
       "      <td>731</td>\n",
       "    </tr>\n",
       "    <tr>\n",
       "      <td>2457</td>\n",
       "      <td>122604</td>\n",
       "      <td>Coco  (2017)</td>\n",
       "      <td>508</td>\n",
       "    </tr>\n",
       "    <tr>\n",
       "      <td>5705</td>\n",
       "      <td>184418</td>\n",
       "      <td>Get Out (2017)</td>\n",
       "      <td>496</td>\n",
       "    </tr>\n",
       "    <tr>\n",
       "      <td>160</td>\n",
       "      <td>78340</td>\n",
       "      <td>Deadpool  (2016)</td>\n",
       "      <td>447</td>\n",
       "    </tr>\n",
       "    <tr>\n",
       "      <td>167</td>\n",
       "      <td>78418</td>\n",
       "      <td>The Avengers  (2012)</td>\n",
       "      <td>443</td>\n",
       "    </tr>\n",
       "    <tr>\n",
       "      <td>3395</td>\n",
       "      <td>140749</td>\n",
       "      <td>Moana  (2016)</td>\n",
       "      <td>415</td>\n",
       "    </tr>\n",
       "    <tr>\n",
       "      <td>2259</td>\n",
       "      <td>119144</td>\n",
       "      <td>Wonder Woman  (2017)</td>\n",
       "      <td>405</td>\n",
       "    </tr>\n",
       "    <tr>\n",
       "      <td>3359</td>\n",
       "      <td>140066</td>\n",
       "      <td>Bridesmaids  (2011)</td>\n",
       "      <td>398</td>\n",
       "    </tr>\n",
       "  </tbody>\n",
       "</table>\n",
       "</div>"
      ],
      "text/plain": [
       "      movieId             movieName  nbMentions\n",
       "6778   204974  Black Panther (2018)        1024\n",
       "5828   187028            It  (2017)         896\n",
       "445     83552       Jumanji  (2017)         731\n",
       "2457   122604          Coco  (2017)         508\n",
       "5705   184418        Get Out (2017)         496\n",
       "160     78340      Deadpool  (2016)         447\n",
       "167     78418  The Avengers  (2012)         443\n",
       "3395   140749         Moana  (2016)         415\n",
       "2259   119144  Wonder Woman  (2017)         405\n",
       "3359   140066   Bridesmaids  (2011)         398"
      ]
     },
     "execution_count": 16,
     "metadata": {},
     "output_type": "execute_result"
    }
   ],
   "source": [
    "# Most mentioned movie\n",
    "\n",
    "df_mv.sort_values(by=['nbMentions'], ascending=False).head(10)"
   ]
  },
  {
   "cell_type": "code",
   "execution_count": 17,
   "metadata": {},
   "outputs": [
    {
     "data": {
      "text/plain": [
       "<matplotlib.axes._subplots.AxesSubplot at 0x13b70e7b8>"
      ]
     },
     "execution_count": 17,
     "metadata": {},
     "output_type": "execute_result"
    },
    {
     "data": {
      "image/png": "[encoded data removed]",
      "text/plain": [
       "<Figure size 432x288 with 1 Axes>"
      ]
     },
     "metadata": {
      "needs_background": "light"
     },
     "output_type": "display_data"
    }
   ],
   "source": [
    "# histgram of nbMentions\n",
    "\n",
    "df_mv.plot(y=['nbMentions'], kind='hist')"
   ]
  },
  {
   "cell_type": "markdown",
   "metadata": {},
   "source": [
    "## End of file"
   ]
  }
 ],
 "metadata": {
  "file_extension": ".py",
  "kernelspec": {
   "display_name": "Python 3",
   "language": "python",
   "name": "python3"
  },
  "language_info": {
   "codemirror_mode": {
    "name": "ipython",
    "version": 3
   },
   "file_extension": ".py",
   "mimetype": "text/x-python",
   "name": "python",
   "nbconvert_exporter": "python",
   "pygments_lexer": "ipython3",
   "version": "3.7.3"
  },
  "mimetype": "text/x-python",
  "name": "python",
  "npconvert_exporter": "python",
  "pygments_lexer": "ipython3",
  "version": 3
 },
 "nbformat": 4,
 "nbformat_minor": 4
}
